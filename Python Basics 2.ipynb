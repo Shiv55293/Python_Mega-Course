{
 "cells": [
  {
   "cell_type": "markdown",
   "metadata": {},
   "source": [
    "Unit 1 part 2"
   ]
  },
  {
   "cell_type": "code",
   "execution_count": 6,
   "metadata": {},
   "outputs": [
    {
     "name": "stdout",
     "output_type": "stream",
     "text": [
      "3\n",
      "5\n",
      "1. addition\n",
      "2. subtraction\n",
      "3. multiplication\n",
      "4. division\n",
      "please enter choice: 3\n",
      "15\n"
     ]
    }
   ],
   "source": [
    "#write a program that prompts a user to enter two different numbers. \n",
    "#perform basic arithemetic operations based on the choices.\n",
    "num1 = int(input())\n",
    "num2 = int(input())\n",
    "print('1. addition')\n",
    "print('2. subtraction')\n",
    "print('3. multiplication')\n",
    "print('4. division')\n",
    "choice = int(input(\"please enter choice: \"))\n",
    "if choice==1:\n",
    "    print(num1+num2)\n",
    "elif choice==2:\n",
    "    print(num1-num2)\n",
    "elif choice==3:\n",
    "    print(num1*num2)\n",
    "elif choice==4:\n",
    "    print(num1/num2)\n",
    "else:\n",
    "    print(\"invalid number\")"
   ]
  },
  {
   "cell_type": "code",
   "execution_count": 2,
   "metadata": {},
   "outputs": [],
   "source": [
    "# while loop"
   ]
  },
  {
   "cell_type": "code",
   "execution_count": 2,
   "metadata": {},
   "outputs": [
    {
     "name": "stdout",
     "output_type": "stream",
     "text": [
      "1\n",
      "2\n",
      "3\n",
      "4\n",
      "5\n"
     ]
    }
   ],
   "source": [
    "#write a program to print number from 1 to 5 using while loop\n",
    "count = 1\n",
    "while count<=5:\n",
    "    print(count) \n",
    "    count += 1 \n",
    "#print(count)"
   ]
  },
  {
   "cell_type": "code",
   "execution_count": 4,
   "metadata": {},
   "outputs": [],
   "source": [
    "#write a program to add 10 consecutive numbers starting from 1 using while loop."
   ]
  },
  {
   "cell_type": "code",
   "execution_count": 25,
   "metadata": {},
   "outputs": [
    {
     "name": "stdout",
     "output_type": "stream",
     "text": [
      "55\n"
     ]
    }
   ],
   "source": [
    "count = 0\n",
    "sum = 0\n",
    "while count <=10:\n",
    "    sum = sum + count \n",
    "    count = count + 1 \n",
    "    #print(sum)\n",
    "print(sum)"
   ]
  },
  {
   "cell_type": "code",
   "execution_count": 6,
   "metadata": {},
   "outputs": [],
   "source": [
    "#write a program to find sum of the digits of a given number"
   ]
  },
  {
   "cell_type": "code",
   "execution_count": 7,
   "metadata": {},
   "outputs": [
    {
     "name": "stdout",
     "output_type": "stream",
     "text": [
      "enter the number1234\n",
      "10\n"
     ]
    }
   ],
   "source": [
    "num = int(input('enter the number')) \n",
    "#x = num\n",
    "sum = 0\n",
    "r = 0\n",
    "while num>0: \n",
    "    r = num%10 \n",
    "    num = num//10  \n",
    "    sum = sum + r \n",
    "print(sum)"
   ]
  },
  {
   "cell_type": "code",
   "execution_count": 3,
   "metadata": {},
   "outputs": [
    {
     "name": "stdout",
     "output_type": "stream",
     "text": [
      "1234\n",
      "4321\n"
     ]
    }
   ],
   "source": [
    "#write a program to display reverse of the number using while loop\n",
    "num = int(input()) \n",
    "r = 0\n",
    "while num>0: \n",
    "    p = num % 10 \n",
    "    num = num//10 \n",
    "    r = r*10 +p \n",
    "print(r)"
   ]
  },
  {
   "cell_type": "code",
   "execution_count": 12,
   "metadata": {},
   "outputs": [],
   "source": [
    "#write a program to print the sum of the numbers from 1 to 20 \n",
    "#inlcuding 1 and 20\n",
    "#that are divisible by 5 using the while loop."
   ]
  },
  {
   "cell_type": "code",
   "execution_count": 5,
   "metadata": {
    "scrolled": true
   },
   "outputs": [
    {
     "name": "stdout",
     "output_type": "stream",
     "text": [
      "50\n"
     ]
    }
   ],
   "source": [
    "count = 1\n",
    "sum = 0\n",
    "while count <=20: \n",
    "    if count % 5 ==0: \n",
    "        sum = sum + count \n",
    "    count = count + 1 \n",
    "print(sum)"
   ]
  },
  {
   "cell_type": "code",
   "execution_count": 14,
   "metadata": {},
   "outputs": [],
   "source": [
    "#write program to print factorial of a number"
   ]
  },
  {
   "cell_type": "code",
   "execution_count": 6,
   "metadata": {},
   "outputs": [
    {
     "name": "stdout",
     "output_type": "stream",
     "text": [
      "5\n",
      "120\n"
     ]
    }
   ],
   "source": [
    "num = int(input()) \n",
    "fact = 1 \n",
    "a = 1\n",
    "while fact <= num: \n",
    "    a = a * fact \n",
    "    fact = fact + 1 \n",
    "print(a)"
   ]
  },
  {
   "cell_type": "code",
   "execution_count": 16,
   "metadata": {},
   "outputs": [],
   "source": [
    "#write program to check whether the number is an Armstrong number (sum of cubes = number) or not."
   ]
  },
  {
   "cell_type": "code",
   "execution_count": 5,
   "metadata": {},
   "outputs": [
    {
     "name": "stdout",
     "output_type": "stream",
     "text": [
      "153\n",
      "number is armstrong\n"
     ]
    }
   ],
   "source": [
    "num = int(input()) \n",
    "sum = 0 \n",
    "x = num\n",
    "while num>0: \n",
    "    d = num % 10 \n",
    "    num = num // 10 \n",
    "    sum = sum + (d*d*d) \n",
    "if (x == sum):\n",
    "    print('number is armstrong')\n",
    "else:\n",
    "    print('number is not armstrong')\n"
   ]
  },
  {
   "cell_type": "code",
   "execution_count": 10,
   "metadata": {},
   "outputs": [
    {
     "data": {
      "text/plain": [
       "'\\nRange Function\\nrange(begin, end, step)\\nit goes from n to n-1\\n'"
      ]
     },
     "execution_count": 10,
     "metadata": {},
     "output_type": "execute_result"
    }
   ],
   "source": [
    "'''\n",
    "Range Function\n",
    "range(begin, end, step) \n",
    "it goes from n to n-1\n",
    "'''"
   ]
  },
  {
   "cell_type": "code",
   "execution_count": 14,
   "metadata": {},
   "outputs": [
    {
     "data": {
      "text/plain": [
       "[1, 2, 3, 4]"
      ]
     },
     "execution_count": 14,
     "metadata": {},
     "output_type": "execute_result"
    }
   ],
   "source": [
    "list (range(1,5)) #it goes from n to n-1"
   ]
  },
  {
   "cell_type": "code",
   "execution_count": 4,
   "metadata": {},
   "outputs": [
    {
     "data": {
      "text/plain": [
       "[1, 3, 5, 7, 9, 11, 13, 15, 17, 19]"
      ]
     },
     "execution_count": 4,
     "metadata": {},
     "output_type": "execute_result"
    }
   ],
   "source": [
    "# create a list from 1 to 20 with a difference of 2.\n",
    "list (range(1, 20, 2))"
   ]
  },
  {
   "cell_type": "code",
   "execution_count": 1,
   "metadata": {},
   "outputs": [
    {
     "data": {
      "text/plain": [
       "[5, 4, 3, 2, 1]"
      ]
     },
     "execution_count": 1,
     "metadata": {},
     "output_type": "execute_result"
    }
   ],
   "source": [
    "list(range(5,0,-1))"
   ]
  },
  {
   "cell_type": "code",
   "execution_count": 4,
   "metadata": {},
   "outputs": [
    {
     "data": {
      "text/plain": [
       "[1, 2, 3, 4, 5, 6, 7, 8, 9]"
      ]
     },
     "execution_count": 4,
     "metadata": {},
     "output_type": "execute_result"
    }
   ],
   "source": [
    "list(range(1,10))"
   ]
  },
  {
   "cell_type": "code",
   "execution_count": 9,
   "metadata": {},
   "outputs": [],
   "source": [
    "# For Loop\n",
    "# for var in sequence:\n",
    "#  Statement"
   ]
  },
  {
   "cell_type": "code",
   "execution_count": 6,
   "metadata": {},
   "outputs": [
    {
     "name": "stdout",
     "output_type": "stream",
     "text": [
      "0\n",
      "1\n",
      "2\n",
      "3\n"
     ]
    }
   ],
   "source": [
    "for i in range(4):\n",
    "    print(i)"
   ]
  },
  {
   "cell_type": "code",
   "execution_count": 16,
   "metadata": {},
   "outputs": [
    {
     "name": "stdout",
     "output_type": "stream",
     "text": [
      "1\n",
      "2\n",
      "3\n",
      "4\n",
      "5\n",
      "6\n",
      "7\n",
      "8\n",
      "9\n",
      "end of program\n"
     ]
    }
   ],
   "source": [
    "#a = 1\n",
    "#b = 10\n",
    "for i in range(1,10,1): \n",
    "    print(i)\n",
    "print('end of program')"
   ]
  },
  {
   "cell_type": "code",
   "execution_count": 2,
   "metadata": {},
   "outputs": [
    {
     "name": "stdout",
     "output_type": "stream",
     "text": [
      "1\n",
      "6\n",
      "2\n"
     ]
    },
    {
     "data": {
      "text/plain": [
       "[1, 3, 5]"
      ]
     },
     "execution_count": 2,
     "metadata": {},
     "output_type": "execute_result"
    }
   ],
   "source": [
    "a = int(input())\n",
    "b = int(input())\n",
    "c = int(input())\n",
    "list(range(a,b,c))"
   ]
  },
  {
   "cell_type": "code",
   "execution_count": 15,
   "metadata": {},
   "outputs": [
    {
     "name": "stdout",
     "output_type": "stream",
     "text": [
      "A B C D E F G H I J K L M N O P Q R S T U V W X Y Z "
     ]
    }
   ],
   "source": [
    "#display capitol letters from A to Z (65 to 91)\n",
    "for i in range (65,91,1):\n",
    "    print(chr(i), end=' ')"
   ]
  },
  {
   "cell_type": "code",
   "execution_count": 2,
   "metadata": {},
   "outputs": [
    {
     "name": "stdout",
     "output_type": "stream",
     "text": [
      "10 9 8 7 6 5 4 3 2 1 "
     ]
    }
   ],
   "source": [
    "#use for loop to print numbers from 1 to 10 in reverse order\n",
    "for i in range(10,0,-1):\n",
    "    print(i,end=' ')"
   ]
  },
  {
   "cell_type": "code",
   "execution_count": 21,
   "metadata": {},
   "outputs": [
    {
     "name": "stdout",
     "output_type": "stream",
     "text": [
      "1\n",
      "4\n",
      "9\n",
      "16\n",
      "25\n"
     ]
    }
   ],
   "source": [
    "#write a program to print square of first five numbers\n",
    "for i in range(1,6):\n",
    "    sq = i*i\n",
    "    print(sq)"
   ]
  },
  {
   "cell_type": "code",
   "execution_count": 3,
   "metadata": {},
   "outputs": [
    {
     "name": "stdout",
     "output_type": "stream",
     "text": [
      "0\n",
      "2\n",
      "4\n",
      "6\n",
      "8\n",
      "10\n",
      "sum of even numbers in given range is: 30\n"
     ]
    }
   ],
   "source": [
    "#write program to print even numbers from 0 to 10 \n",
    "#and find their sum.\n",
    "sum = 0\n",
    "for i in range(0,11,1):\n",
    "    if i%2==0:\n",
    "        print (i)\n",
    "        sum = sum + i\n",
    "print('sum of even numbers in given range is:',sum)"
   ]
  },
  {
   "cell_type": "code",
   "execution_count": 1,
   "metadata": {},
   "outputs": [],
   "source": [
    "#write a program that prompts a user to enter four numbers \n",
    "#and find the greatest number among the four numbers entered."
   ]
  },
  {
   "cell_type": "code",
   "execution_count": 2,
   "metadata": {},
   "outputs": [
    {
     "name": "stdout",
     "output_type": "stream",
     "text": [
      "1\n",
      "2\n",
      "5\n",
      "7\n",
      "7\n"
     ]
    }
   ],
   "source": [
    "p = 0\n",
    "for i in range(4):\n",
    "    n = int(input())\n",
    "    if n > p:\n",
    "        p = n\n",
    "print(p)"
   ]
  },
  {
   "cell_type": "code",
   "execution_count": 6,
   "metadata": {},
   "outputs": [
    {
     "name": "stdout",
     "output_type": "stream",
     "text": [
      "3\n",
      "7\n",
      "1\n",
      "4\n",
      "greatest number is:  7\n"
     ]
    }
   ],
   "source": [
    "num1 = int(input())\n",
    "num2 = int(input())\n",
    "num3 = int(input())\n",
    "num4 = int(input())\n",
    "sum = num1+num2+num3+num4\n",
    "for i in range(sum):\n",
    "    if i==num1 or i==num2 or i==num3 or i==num4:\n",
    "        l = i\n",
    "print('greatest number is: ', l)"
   ]
  },
  {
   "cell_type": "code",
   "execution_count": 1,
   "metadata": {},
   "outputs": [
    {
     "name": "stdout",
     "output_type": "stream",
     "text": [
      "0\n",
      "1\n",
      "8\n",
      "0 1 1 2 3 5 8 13 21 34 "
     ]
    }
   ],
   "source": [
    "#Write a program to print Fabonacci series up to 8.\n",
    "\n",
    "first = int(input()) #0\n",
    "second = int(input()) #1\n",
    "limit = int(input())\n",
    "print(first,second, end =' ')\n",
    "for i in range(limit): #,,,,7\n",
    "    sum = first + second # 1,2,3,5\n",
    "    first = second # 1,1,2,3\n",
    "    second = sum   # 1,2,3,5\n",
    "    print(sum,end=' ')"
   ]
  },
  {
   "cell_type": "code",
   "execution_count": 9,
   "metadata": {},
   "outputs": [
    {
     "name": "stdout",
     "output_type": "stream",
     "text": [
      " *  \n",
      " *   *  \n",
      " *   *   *  \n",
      " *   *   *   *  \n",
      " *   *   *   *   *  \n"
     ]
    }
   ],
   "source": [
    "# pattern questions\n",
    "\n",
    "num = 1\n",
    "#x = num\n",
    "for i in range (1,6,1):\n",
    "    num = num + 1 #here we are updating the value of num so that we can enter into the j loop and run\n",
    "    for j in range(1,num,1): #(1,2,1)  (1,3,1)  (1,4,1)  (1,5,1)  (1,6,1)\n",
    "        print(\" * \",end=' ')\n",
    "        #x = num + 1\n",
    "    print()"
   ]
  },
  {
   "cell_type": "code",
   "execution_count": 4,
   "metadata": {},
   "outputs": [
    {
     "name": "stdout",
     "output_type": "stream",
     "text": [
      " *   *   *   *   *  \n",
      " *   *   *   *  \n",
      " *   *   *  \n",
      " *   *  \n",
      " *  \n"
     ]
    }
   ],
   "source": [
    "num = 7\n",
    "#x = num\n",
    "for i in range (1,6,1):\n",
    "    num = num - 1\n",
    "    for j in range (1,num,1):\n",
    "        print(\" * \",end = ' ')\n",
    "        #x = num - 1\n",
    "    print()"
   ]
  },
  {
   "cell_type": "code",
   "execution_count": null,
   "metadata": {},
   "outputs": [],
   "source": [
    "#write a progrm that prints a pyramid"
   ]
  },
  {
   "cell_type": "code",
   "execution_count": 13,
   "metadata": {},
   "outputs": [
    {
     "name": "stdout",
     "output_type": "stream",
     "text": [
      "6\n",
      "          * \n",
      "         * * \n",
      "        * * * \n",
      "       * * * * \n",
      "      * * * * * \n",
      "     * * * * * * \n"
     ]
    }
   ],
   "source": [
    "n=int(input())\n",
    "k=2*n-2\n",
    "for i in range(0,n):\n",
    "    for j in range(0,k):\n",
    "        print(end=' ')#space in end\n",
    "    k=k-1\n",
    "    for j in range(0,i+1):\n",
    "        print('* ',end='')#space after star\n",
    "    print()    "
   ]
  },
  {
   "cell_type": "code",
   "execution_count": 1,
   "metadata": {},
   "outputs": [
    {
     "name": "stdout",
     "output_type": "stream",
     "text": [
      "1 \n",
      "1 2 \n",
      "1 2 3 \n",
      "1 2 3 4 \n",
      "1 2 3 4 5 \n"
     ]
    }
   ],
   "source": [
    "#num = 1\n",
    "#x = num\n",
    "for i in range(1,6,1):\n",
    "    #num = num + 1\n",
    "    for j in range (1,i+1,1): #(1,3,1)\n",
    "        print (j,end=' ')\n",
    "        #x = num + 1\n",
    "    print()"
   ]
  },
  {
   "cell_type": "code",
   "execution_count": 5,
   "metadata": {},
   "outputs": [
    {
     "name": "stdout",
     "output_type": "stream",
     "text": [
      "1 \n",
      "1 2 \n",
      "1 2 3 \n",
      "1 2 3 4 \n",
      "1 2 3 \n",
      "1 2 \n",
      "1 \n",
      "\n"
     ]
    }
   ],
   "source": [
    "num = 1\n",
    "x = num\n",
    "for i in range (1,5,1):\n",
    "    num = num + 1\n",
    "    for j in range (1,num,1):\n",
    "        print(j, end = \" \")\n",
    "        x = num + 1\n",
    "    print()\n",
    "    \n",
    "num = 5 \n",
    "x = num\n",
    "for i in range(1,5,1):\n",
    "    num = num - 1\n",
    "    for j in range(1,num,1):\n",
    "        print(j,end=\" \")\n",
    "        x = num - 1\n",
    "    print()"
   ]
  },
  {
   "cell_type": "code",
   "execution_count": 6,
   "metadata": {},
   "outputs": [
    {
     "name": "stdout",
     "output_type": "stream",
     "text": [
      "1 2 3 4 5 6 7 8 9 10 "
     ]
    }
   ],
   "source": [
    "# break statement. WAP to print numbers from 1 to 10 in a range of 1 to 100\n",
    "for i in range (1,100,1):\n",
    "    if (i==11):\n",
    "        break\n",
    "    else:\n",
    "        print(i,end=\" \")"
   ]
  },
  {
   "cell_type": "code",
   "execution_count": 1,
   "metadata": {},
   "outputs": [
    {
     "name": "stdout",
     "output_type": "stream",
     "text": [
      "1 2 3 4 6 7 8 9 10 "
     ]
    }
   ],
   "source": [
    "#continue. \n",
    "for i in range (1,11,1):\n",
    "    if i == 5:  \n",
    "        continue   #it will jump to the next iteration when i=5\n",
    "    print (i,end = \" \")"
   ]
  },
  {
   "cell_type": "code",
   "execution_count": 5,
   "metadata": {},
   "outputs": [
    {
     "ename": "IndentationError",
     "evalue": "unexpected indent (<ipython-input-5-f5b8e07c8b04>, line 2)",
     "output_type": "error",
     "traceback": [
      "\u001b[1;36m  File \u001b[1;32m\"<ipython-input-5-f5b8e07c8b04>\"\u001b[1;36m, line \u001b[1;32m2\u001b[0m\n\u001b[1;33m    statements\u001b[0m\n\u001b[1;37m    ^\u001b[0m\n\u001b[1;31mIndentationError\u001b[0m\u001b[1;31m:\u001b[0m unexpected indent\n"
     ]
    }
   ],
   "source": [
    "# while (conditions):\n",
    "    statements\n",
    "    counter"
   ]
  },
  {
   "cell_type": "code",
   "execution_count": 17,
   "metadata": {},
   "outputs": [
    {
     "name": "stdout",
     "output_type": "stream",
     "text": [
      "5 4 3 2 1 \n",
      "4 3 2 1 \n",
      "3 2 1 \n",
      "2 1 \n",
      "1 \n"
     ]
    }
   ],
   "source": [
    "for i in range(5,0,-1): \n",
    "    for j in range(i,0,-1): \n",
    "        print(j, end = \" \")\n",
    "    print()"
   ]
  },
  {
   "cell_type": "code",
   "execution_count": 8,
   "metadata": {},
   "outputs": [
    {
     "name": "stdout",
     "output_type": "stream",
     "text": [
      "A \n",
      "A B \n",
      "A B C \n",
      "A B C D \n",
      "A B C D E \n"
     ]
    }
   ],
   "source": [
    "for i in range(65,70,1): #65,66,67,68,69\n",
    "    for j in range(65,i+1,1): #(65,66,1),(65,67,1)..65,66\n",
    "        print(chr(j), end = ' ')\n",
    "    print()"
   ]
  },
  {
   "cell_type": "code",
   "execution_count": 11,
   "metadata": {},
   "outputs": [
    {
     "name": "stdout",
     "output_type": "stream",
     "text": [
      "1 \n",
      "1 2 \n",
      "1 2 3 \n",
      "1 2 3 4 \n",
      "1 2 3 \n",
      "1 2 \n",
      "1 \n",
      "\n"
     ]
    }
   ],
   "source": [
    "for i in range(1,5,1):\n",
    "    for j in range (1,i+1,1):\n",
    "        print(j,end=\" \")\n",
    "    print()\n",
    "for x in range (5,1,-1):\n",
    "    for y in range (1,x-1,1):\n",
    "        print(y,end=\" \")\n",
    "    print()"
   ]
  },
  {
   "cell_type": "code",
   "execution_count": 3,
   "metadata": {},
   "outputs": [
    {
     "name": "stdout",
     "output_type": "stream",
     "text": [
      "Enter the number upto which you want to perform the addition20\n",
      "210\n"
     ]
    }
   ],
   "source": [
    "count=0\n",
    "sum = 0\n",
    "n=int(input(\"Enter the number upto which you want to perform the addition\"))\n",
    "while count <=n: \n",
    "    sum = sum + count \n",
    "    count = count + 1 \n",
    "print(sum)"
   ]
  },
  {
   "cell_type": "code",
   "execution_count": 51,
   "metadata": {},
   "outputs": [
    {
     "name": "stdout",
     "output_type": "stream",
     "text": [
      "2 \n",
      "3 4 \n",
      "5 6 7 8 \n",
      "9 10 11 12 13 14 15 16 \n",
      "17 18 19 20 21 22 23 24 25 26 27 28 29 30 31 32 \n"
     ]
    }
   ],
   "source": [
    "count=1\n",
    "for i in range(1,6,1):\n",
    "    for j in range (count+1,1,-1): \n",
    "        print (count+1,end=' ')\n",
    "        count+=1\n",
    "    print()"
   ]
  },
  {
   "cell_type": "code",
   "execution_count": 39,
   "metadata": {},
   "outputs": [
    {
     "name": "stdout",
     "output_type": "stream",
     "text": [
      "5  \n",
      "6 7  \n",
      "8 9 10  \n",
      "11 12 13 14  \n",
      "15 16 17 18 19  \n"
     ]
    }
   ],
   "source": [
    "rows = 6\n",
    "\n",
    "for row in range(1, rows):\n",
    "\n",
    "    for column in range(row, 0, -1):\n",
    "\n",
    "        print(column, end=' ')\n",
    "\n",
    "    print(\" \")"
   ]
  },
  {
   "cell_type": "code",
   "execution_count": 55,
   "metadata": {},
   "outputs": [
    {
     "name": "stdout",
     "output_type": "stream",
     "text": [
      "Enter the number of rows upto which you want to print the pattern4\n",
      "1 \n",
      "3 2 \n",
      "6 5 4 \n",
      "10 9 8 7 \n"
     ]
    }
   ],
   "source": [
    "count=0\n",
    "n=int(input(\"Enter the number of rows upto which you want to print the pattern\"))\n",
    "for i in range(1,n+1,1):\n",
    "    count+=i\n",
    "    for j in range (count,count-i,-1): \n",
    "        print (j,end=' ')\n",
    "    print()"
   ]
  },
  {
   "cell_type": "code",
   "execution_count": 56,
   "metadata": {},
   "outputs": [
    {
     "name": "stdout",
     "output_type": "stream",
     "text": [
      "1 \n",
      "3 2 \n",
      "6 5 4 \n",
      "10 9 8 7 \n"
     ]
    }
   ],
   "source": [
    "c=0\n",
    "for i in range(1,5,1):\n",
    "    c=c+i\n",
    "    for j in range(c,c-i,-1):\n",
    "        print(j,end=' ')\n",
    "    print()\n"
   ]
  },
  {
   "cell_type": "code",
   "execution_count": 57,
   "metadata": {},
   "outputs": [
    {
     "name": "stdout",
     "output_type": "stream",
     "text": [
      "23\n",
      "45\n",
      "67\n",
      "num3 is greater\n"
     ]
    }
   ],
   "source": [
    "num1 = int(input())\n",
    "num2 = int(input())\n",
    "num3 = int(input())\n",
    "if (num1>num2 and num1>num3):\n",
    "    print('num1 is greater')\n",
    "elif (num2>num3):\n",
    "    print('num2 in greater')\n",
    "else:\n",
    "    print('num3 is greater')"
   ]
  },
  {
   "cell_type": "code",
   "execution_count": null,
   "metadata": {},
   "outputs": [],
   "source": []
  }
 ],
 "metadata": {
  "kernelspec": {
   "display_name": "Python 3 (ipykernel)",
   "language": "python",
   "name": "python3"
  },
  "language_info": {
   "codemirror_mode": {
    "name": "ipython",
    "version": 3
   },
   "file_extension": ".py",
   "mimetype": "text/x-python",
   "name": "python",
   "nbconvert_exporter": "python",
   "pygments_lexer": "ipython3",
   "version": "3.8.3"
  }
 },
 "nbformat": 4,
 "nbformat_minor": 2
}
