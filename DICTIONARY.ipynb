{
 "cells": [
  {
   "cell_type": "code",
   "execution_count": 3,
   "metadata": {},
   "outputs": [
    {
     "data": {
      "text/plain": [
       "{'age': 40, 'name': 'sachin'}"
      ]
     },
     "execution_count": 3,
     "metadata": {},
     "output_type": "execute_result"
    }
   ],
   "source": [
    "#Dictionary contains set of key and values\n",
    "D={}\n",
    "D['name']='sachin'  #defining key and value\n",
    "D['age']=40         \n",
    "D"
   ]
  },
  {
   "cell_type": "code",
   "execution_count": 6,
   "metadata": {},
   "outputs": [
    {
     "data": {
      "text/plain": [
       "{'age': 35, 'name': 'virat'}"
      ]
     },
     "execution_count": 6,
     "metadata": {},
     "output_type": "execute_result"
    }
   ],
   "source": [
    "D=dict(name='virat',age=35)   #defining key and value in a single statement\n",
    "D"
   ]
  },
  {
   "cell_type": "code",
   "execution_count": 1,
   "metadata": {},
   "outputs": [
    {
     "data": {
      "text/plain": [
       "{'name': 'rahul', 'age': 40}"
      ]
     },
     "execution_count": 1,
     "metadata": {},
     "output_type": "execute_result"
    }
   ],
   "source": [
    "l1=[('name','rahul'),('age',40)] #list of tuples to dictionary\n",
    "dict(l1)"
   ]
  },
  {
   "cell_type": "code",
   "execution_count": 5,
   "metadata": {},
   "outputs": [
    {
     "data": {
      "text/plain": [
       "{'john': '1234'}"
      ]
     },
     "execution_count": 5,
     "metadata": {},
     "output_type": "execute_result"
    }
   ],
   "source": [
    "#adding and rePlacing values use subscriPt oPerator\n",
    "D2 = {}\n",
    "D2['john']='1234' # adding\n",
    "D2\n"
   ]
  },
  {
   "cell_type": "code",
   "execution_count": 6,
   "metadata": {},
   "outputs": [
    {
     "data": {
      "text/plain": [
       "{'john': '5678'}"
      ]
     },
     "execution_count": 6,
     "metadata": {},
     "output_type": "execute_result"
    }
   ],
   "source": [
    "D2['john']='5678' #rePlacing\n",
    "D2"
   ]
  },
  {
   "cell_type": "code",
   "execution_count": 7,
   "metadata": {},
   "outputs": [
    {
     "data": {
      "text/plain": [
       "'5678'"
      ]
     },
     "execution_count": 7,
     "metadata": {},
     "output_type": "execute_result"
    }
   ],
   "source": [
    "D2['john']"
   ]
  },
  {
   "cell_type": "code",
   "execution_count": 3,
   "metadata": {},
   "outputs": [
    {
     "data": {
      "text/plain": [
       "{'laptop': 'mac', 'count': 10}"
      ]
     },
     "execution_count": 3,
     "metadata": {},
     "output_type": "execute_result"
    }
   ],
   "source": [
    "#dictionary will always print that key and value first which contains an intger value instead of string\n",
    "D3={}\n",
    "D3['laptop']='mac'\n",
    "D3['count']=10\n",
    "D3"
   ]
  },
  {
   "cell_type": "code",
   "execution_count": 31,
   "metadata": {},
   "outputs": [
    {
     "data": {
      "text/plain": [
       "'i want 10 mac laptops'"
      ]
     },
     "execution_count": 31,
     "metadata": {},
     "output_type": "execute_result"
    }
   ],
   "source": [
    "A='i want %(count)d %(laptop)s laptops'%D3\n",
    "A\n",
    "\n",
    "# d and s for integer and string"
   ]
  },
  {
   "cell_type": "code",
   "execution_count": 4,
   "metadata": {},
   "outputs": [
    {
     "data": {
      "text/plain": [
       "True"
      ]
     },
     "execution_count": 4,
     "metadata": {},
     "output_type": "execute_result"
    }
   ],
   "source": [
    "#comparing two dictionary\n",
    "A={'I':'India','A':'America'}\n",
    "B={'I':'Italy','A':'America'}\n",
    "\n",
    "#A==B\n",
    "#A!=B\n",
    "C=A\n",
    "C\n",
    "C==A"
   ]
  },
  {
   "cell_type": "code",
   "execution_count": 1,
   "metadata": {},
   "outputs": [
    {
     "data": {
      "text/plain": [
       "dict_values([65, 66, 67, 68])"
      ]
     },
     "execution_count": 1,
     "metadata": {},
     "output_type": "execute_result"
    }
   ],
   "source": [
    "#METHOD OF DICT CLASS\n",
    "#KEYS()\n",
    "\n",
    "asicode={'A':65,'B':66,'C':67,'D':68}\n",
    "#asicode.keys()  #return a sequence of keys\n",
    "asicode.values()   #return a sequence of values\n",
    "#asicode.items()     #return a sequence of tuples\n",
    "#asicode.clear()     #delete all entries\n",
    "#asicode\n",
    "#asicode.get('B')     #return the values of key\n",
    "#print(asicode.pop('C'))   # remove the key & return the value\n",
    "#asicode"
   ]
  },
  {
   "cell_type": "code",
   "execution_count": 19,
   "metadata": {},
   "outputs": [
    {
     "name": "stdout",
     "output_type": "stream",
     "text": [
      "ram : A\n",
      "sham : B\n",
      "tom : C\n",
      "dom : D\n"
     ]
    }
   ],
   "source": [
    "#traversing dictionaries\n",
    "\n",
    "grades={'ram':'A','sham':'B','tom':'C', 'dom':'D'}\n",
    "for key in grades:\n",
    "    print(key,':',(grades[key]))\n",
    "\n",
    "\n"
   ]
  },
  {
   "cell_type": "code",
   "execution_count": 13,
   "metadata": {},
   "outputs": [
    {
     "name": "stdout",
     "output_type": "stream",
     "text": [
      "ram : A\n",
      "sham : B\n",
      "tom : C\n",
      "dom : D\n"
     ]
    }
   ],
   "source": [
    "grades={'ram':'A','sham':'B','tom':'C', 'dom':'D'}\n",
    "for key in grades.keys():\n",
    "    print(key,':',grades.get(key))"
   ]
  },
  {
   "cell_type": "code",
   "execution_count": 16,
   "metadata": {},
   "outputs": [
    {
     "data": {
      "text/plain": [
       "7212"
      ]
     },
     "execution_count": 16,
     "metadata": {},
     "output_type": "execute_result"
    }
   ],
   "source": [
    "#nested dictionaries\n",
    "\n",
    "#{}\n",
    "#['john']\n",
    "players={'VIRAT':{'ODI':7212,'TEST':3245},\n",
    "         'SACHIN':{'ODI':18426,'TEST':15921}}\n",
    "\n",
    "players['VIRAT']['ODI']\n",
    "#players['VIRAT']['TEST']\n",
    "\n",
    "#players['SACHIN']['ODI']\n",
    "#players['SACHIN']['TEST']"
   ]
  },
  {
   "cell_type": "code",
   "execution_count": 19,
   "metadata": {},
   "outputs": [
    {
     "name": "stdout",
     "output_type": "stream",
     "text": [
      " VIRAT\n",
      " {'ODI': 7212, 'TEST': 3245}\n",
      " SACHIN\n",
      " {'ODI': 18426, 'TEST': 15921}\n"
     ]
    }
   ],
   "source": [
    "#traversing nested dictionaries\n",
    "players={'VIRAT':{'ODI':7212,'TEST':3245},\n",
    "         'SACHIN':{'ODI':18426,'TEST':15921}}\n",
    "for name,detail in players.items():\n",
    "    print('',name)\n",
    "    print('',detail)\n",
    "\n"
   ]
  },
  {
   "cell_type": "code",
   "execution_count": 25,
   "metadata": {},
   "outputs": [
    {
     "name": "stdout",
     "output_type": "stream",
     "text": [
      "player : VIRAT\n",
      "run score in odi : 7212\n",
      "run score in test : 3245\n",
      "player : SACHIN\n",
      "run score in odi : 18426\n",
      "run score in test : 15921\n"
     ]
    }
   ],
   "source": [
    "players={'VIRAT':{'ODI':7212,'TEST':3245},\n",
    "         'SACHIN':{'ODI':18426,'TEST':15921}}\n",
    "for name,detail in players.items():\n",
    "    print('player :', name)\n",
    "    print('run score in odi :',detail['ODI'])\n",
    "    print('run score in test :', detail['TEST'])"
   ]
  },
  {
   "cell_type": "code",
   "execution_count": 27,
   "metadata": {},
   "outputs": [
    {
     "name": "stdout",
     "output_type": "stream",
     "text": [
      " VIRAT\n",
      "ODI : 7212\n",
      "TEST : 3245\n",
      " SACHIN\n",
      "ODI : 18426\n",
      "TEST : 15921\n"
     ]
    }
   ],
   "source": [
    "players={'VIRAT':{'ODI':7212,'TEST':3245},\n",
    "         'SACHIN':{'ODI':18426,'TEST':15921}}\n",
    "for name, detail in players.items():\n",
    "    print('',name)\n",
    "    for key in detail:\n",
    "        print(key,':',str(detail[key]))"
   ]
  },
  {
   "cell_type": "code",
   "execution_count": 12,
   "metadata": {},
   "outputs": [
    {
     "name": "stdout",
     "output_type": "stream",
     "text": [
      "{'a': 1, 'p': 2, 'l': 1, 'e': 1}\n"
     ]
    }
   ],
   "source": [
    "#write a function histogram that take string as\n",
    "#parameter and generate a frequency of character in it\n",
    "s='apple'\n",
    "\n",
    "def histogram(s):\n",
    "    D=dict()\n",
    "    for c in s:\n",
    "        if c not in D:\n",
    "            D[c]=1\n",
    "        else:\n",
    "            D[c]=D[c]+1\n",
    "    return D\n",
    "H=histogram('apple')\n",
    "print(H)"
   ]
  },
  {
   "cell_type": "code",
   "execution_count": 2,
   "metadata": {},
   "outputs": [
    {
     "name": "stdout",
     "output_type": "stream",
     "text": [
      "rahul\n",
      "{'r': 1, 'a': 1, 'h': 1, 'u': 1, 'l': 1}\n"
     ]
    }
   ],
   "source": [
    "x = input()\n",
    "d = {}\n",
    "def abc(s):\n",
    "    for alpha in s:\n",
    "        d[alpha]=x.count(alpha)\n",
    "    print(d)\n",
    "abc(x)"
   ]
  },
  {
   "cell_type": "markdown",
   "metadata": {},
   "source": [
    "# Adding two dictionries with the sum of common value of its elements"
   ]
  },
  {
   "cell_type": "code",
   "execution_count": 5,
   "metadata": {},
   "outputs": [
    {
     "name": "stdout",
     "output_type": "stream",
     "text": [
      "{'shiwangi': 1456, 'nisha': 1457, 'neha': 3000, 'itashi': 1478, 'varsha': 1600}\n"
     ]
    }
   ],
   "source": [
    "dict1 = {'shiwangi':1456 , 'nisha' :  1457 , 'neha' : 1500}\n",
    "dict2 = {'itashi' : 1478 , 'varsha' : 1600 , 'neha' : 1500}\n",
    "for key in dict1:\n",
    "    if key in dict2:\n",
    "        dict2[key]=dict1[key]+dict2[key]   #adding the values of common keys\n",
    "    else:\n",
    "        pass\n",
    "dict3={**dict1, **dict2}  #merging both the dictionries\n",
    "print(dict3)"
   ]
  },
  {
   "cell_type": "code",
   "execution_count": null,
   "metadata": {},
   "outputs": [],
   "source": []
  }
 ],
 "metadata": {
  "kernelspec": {
   "display_name": "Python 3 (ipykernel)",
   "language": "python",
   "name": "python3"
  },
  "language_info": {
   "codemirror_mode": {
    "name": "ipython",
    "version": 3
   },
   "file_extension": ".py",
   "mimetype": "text/x-python",
   "name": "python",
   "nbconvert_exporter": "python",
   "pygments_lexer": "ipython3",
   "version": "3.8.3"
  }
 },
 "nbformat": 4,
 "nbformat_minor": 2
}
